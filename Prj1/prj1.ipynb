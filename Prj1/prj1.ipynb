{
 "cells": [
  {
   "cell_type": "code",
   "execution_count": 2,
   "metadata": {},
   "outputs": [],
   "source": [
    "# Começando com os imports\n",
    "import csv\n",
    "import matplotlib.pyplot as plt"
   ]
  },
  {
   "cell_type": "code",
   "execution_count": 3,
   "metadata": {},
   "outputs": [
    {
     "name": "stdout",
     "output_type": "stream",
     "text": [
      "Lendo o documento...\n",
      "Ok!\n"
     ]
    }
   ],
   "source": [
    "# Vamos ler os dados como uma lista\n",
    "print(\"Lendo o documento...\")\n",
    "with open(\"chicago.csv\", \"r\") as file_read:\n",
    "    reader = csv.reader(file_read)\n",
    "    data_list = list(reader)\n",
    "print(\"Ok!\")"
   ]
  },
  {
   "cell_type": "code",
   "execution_count": 10,
   "metadata": {},
   "outputs": [
    {
     "name": "stdout",
     "output_type": "stream",
     "text": [
      "Número de linhas: 1551506\n"
     ]
    }
   ],
   "source": [
    "# Vamos verificar quantas linhas nós temos\n",
    "print(\"Número de linhas:\", end=\" \")\n",
    "print(len(data_list))"
   ]
  },
  {
   "cell_type": "code",
   "execution_count": 11,
   "metadata": {},
   "outputs": [
    {
     "name": "stdout",
     "output_type": "stream",
     "text": [
      "Linha 0: \n",
      "['Start Time', 'End Time', 'Trip Duration', 'Start Station', 'End Station', 'User Type', 'Gender', 'Birth Year']\n"
     ]
    }
   ],
   "source": [
    "# Imprimindo a primeira linha de data_list para verificar se funcionou.\n",
    "print(\"Linha 0: \")\n",
    "print(data_list[0])\n",
    "# É o cabeçalho dos dados, para que possamos identificar as colunas."
   ]
  },
  {
   "cell_type": "code",
   "execution_count": 12,
   "metadata": {},
   "outputs": [
    {
     "name": "stdout",
     "output_type": "stream",
     "text": [
      "Linha 1: \n",
      "['2017-01-01 00:00:36', '2017-01-01 00:06:32', '356', 'Canal St & Taylor St', 'Canal St & Monroe St (*)', 'Customer', '', '']\n"
     ]
    }
   ],
   "source": [
    "# Imprimindo a segunda linha de data_list, ela deveria conter alguns dados\n",
    "print(\"Linha 1: \")\n",
    "print(data_list[1])"
   ]
  },
  {
   "cell_type": "code",
   "execution_count": 13,
   "metadata": {},
   "outputs": [
    {
     "name": "stdout",
     "output_type": "stream",
     "text": [
      "Aperte Enter para continuar...\n",
      "\n",
      "\n",
      "TAREFA 1: Imprimindo as primeiras 20 amostras\n",
      "[['2017-01-01 00:00:36', '2017-01-01 00:06:32', '356', 'Canal St & Taylor St', 'Canal St & Monroe St (*)', 'Customer', '', ''], ['2017-01-01 00:02:54', '2017-01-01 00:08:21', '327', 'Larrabee St & Menomonee St', 'Sheffield Ave & Kingsbury St', 'Subscriber', 'Male', '1984.0'], ['2017-01-01 00:06:06', '2017-01-01 00:18:31', '745', 'Orleans St & Chestnut St (NEXT Apts)', 'Ashland Ave & Blackhawk St', 'Subscriber', 'Male', '1985.0'], ['2017-01-01 00:07:28', '2017-01-01 00:12:51', '323', 'Franklin St & Monroe St', 'Clinton St & Tilden St', 'Subscriber', 'Male', '1990.0'], ['2017-01-01 00:07:57', '2017-01-01 00:20:53', '776', 'Broadway & Barry Ave', 'Sedgwick St & North Ave', 'Subscriber', 'Male', '1990.0'], ['2017-01-01 00:10:44', '2017-01-01 00:21:27', '643', 'State St & Kinzie St', 'Wells St & Polk St', 'Subscriber', 'Male', '1970.0'], ['2017-01-01 00:11:34', '2017-01-01 00:23:47', '733', 'Wabash Ave & Wacker Pl', 'Clinton St & Tilden St', 'Subscriber', 'Male', '1986.0'], ['2017-01-01 00:14:57', '2017-01-01 00:26:22', '685', 'Daley Center Plaza', 'Canal St & Monroe St (*)', 'Customer', '', ''], ['2017-01-01 00:15:03', '2017-01-01 00:26:28', '685', 'Daley Center Plaza', 'Canal St & Monroe St (*)', 'Customer', '', ''], ['2017-01-01 00:17:01', '2017-01-01 00:29:49', '768', 'Dayton St & North Ave', 'Ogden Ave & Chicago Ave', 'Customer', '', ''], ['2017-01-01 00:17:13', '2017-01-01 11:03:34', '38781', 'Wilton Ave & Diversey Pkwy', 'Halsted St & Wrightwood Ave', 'Subscriber', 'Female', '1988.0'], ['2017-01-01 00:18:28', '2017-01-01 00:31:05', '757', 'Canal St & Madison St', 'LaSalle St & Illinois St', 'Customer', '', ''], ['2017-01-01 00:18:50', '2017-01-01 00:21:47', '177', 'Theater on the Lake', 'Lakeview Ave & Fullerton Pkwy', 'Subscriber', 'Male', '1991.0'], ['2017-01-01 00:23:41', '2017-01-01 00:29:13', '332', 'Halsted St & Maxwell St', 'Halsted St & 18th St', 'Subscriber', 'Male', '1984.0'], ['2017-01-01 00:25:47', '2017-01-01 00:39:53', '846', 'Ravenswood Ave & Lawrence Ave', 'Clarendon Ave & Gordon Ter', 'Subscriber', 'Female', '1987.0'], ['2017-01-01 00:25:47', '2017-01-01 00:43:23', '1056', 'Clark St & Congress Pkwy', 'Wolcott Ave & Polk St', 'Subscriber', 'Male', '1984.0'], ['2017-01-01 00:26:21', '2017-01-01 00:39:40', '799', 'Ravenswood Ave & Lawrence Ave', 'Clarendon Ave & Gordon Ter', 'Subscriber', 'Male', '1987.0'], ['2017-01-01 00:27:21', '2017-01-01 00:42:59', '938', 'Millennium Park', 'Michigan Ave & 18th St', 'Subscriber', 'Male', '1991.0'], ['2017-01-01 00:27:28', '2017-01-01 00:42:44', '916', 'Millennium Park', 'Michigan Ave & 18th St', 'Subscriber', 'Female', '1990.0'], ['2017-01-01 00:27:45', '2017-01-01 00:31:13', '208', 'Damen Ave & Chicago Ave', 'Damen Ave & Division St', 'Subscriber', 'Male', '1982.0']]\n"
     ]
    }
   ],
   "source": [
    "input(\"Aperte Enter para continuar...\")\n",
    "# TAREFA 1\n",
    "# TODO: Imprima as primeiras 20 linhas usando um loop para identificar os dados.\n",
    "print(\"\\n\\nTAREFA 1: Imprimindo as primeiras 20 amostras\")\n",
    "\n",
    "# Vamos mudar o data_list para remover o cabeçalho dele.\n",
    "data_list = data_list[1:]\n",
    "    \n",
    "print([data_list[x] for x in range(20)])"
   ]
  },
  {
   "cell_type": "code",
   "execution_count": 14,
   "metadata": {},
   "outputs": [
    {
     "name": "stdout",
     "output_type": "stream",
     "text": [
      "Aperte Enter para continuar...\n",
      "Line : 1\tGender: \n",
      "Line : 2\tGender: Male\n",
      "Line : 3\tGender: Male\n",
      "Line : 4\tGender: Male\n",
      "Line : 5\tGender: Male\n",
      "Line : 6\tGender: Male\n",
      "Line : 7\tGender: Male\n",
      "Line : 8\tGender: \n",
      "Line : 9\tGender: \n",
      "Line : 10\tGender: \n",
      "Line : 11\tGender: Female\n",
      "Line : 12\tGender: \n",
      "Line : 13\tGender: Male\n",
      "Line : 14\tGender: Male\n",
      "Line : 15\tGender: Female\n",
      "Line : 16\tGender: Male\n",
      "Line : 17\tGender: Male\n",
      "Line : 18\tGender: Male\n",
      "Line : 19\tGender: Female\n",
      "Line : 20\tGender: Male\n",
      "\n",
      "TAREFA 2: Imprimindo o gênero das primeiras 20 amostras\n"
     ]
    }
   ],
   "source": [
    "# Nós podemos acessar as features pelo índice\n",
    "# Por exemplo: sample[6] para imprimir gênero, ou sample[-2]\n",
    "input(\"Aperte Enter para continuar...\")\n",
    "# TAREFA 2\n",
    "# TODO: Imprima o `gênero` das primeiras 20 linhas\n",
    "\n",
    "for i, line in enumerate(data_list[:20],start=1):\n",
    "    print(f\"Line : {i}\\tGender: {line[-2]}\")\n",
    "\n",
    "print(\"\\nTAREFA 2: Imprimindo o gênero das primeiras 20 amostras\")"
   ]
  },
  {
   "cell_type": "code",
   "execution_count": 15,
   "metadata": {},
   "outputs": [
    {
     "name": "stdout",
     "output_type": "stream",
     "text": [
      "Aperte Enter para continuar...\n",
      "\n",
      "TAREFA 3: Imprimindo a lista de gêneros das primeiras 20 amostras\n",
      "['', 'Male', 'Male', 'Male', 'Male', 'Male', 'Male', '', '', '', 'Female', '', 'Male', 'Male', 'Female', 'Male', 'Male', 'Male', 'Female', 'Male']\n"
     ]
    }
   ],
   "source": [
    "# Ótimo! Nós podemos pegar as linhas(samples) iterando com um for, e as colunas(features) por índices.\n",
    "# Mas ainda é difícil pegar uma coluna em uma lista. Exemplo: Lista com todos os gêneros\n",
    "\n",
    "input(\"Aperte Enter para continuar...\")\n",
    "# TAREFA 3\n",
    "# TODO: Crie uma função para adicionar as colunas(features) de uma lista em outra lista, na mesma ordem\n",
    "def column_to_list(data, index):\n",
    "    \"\"\"\n",
    "      Recebe 2 parametros e retorna uma lista com a coluna escolhida via parametro index.\n",
    "      Argumentos:\n",
    "          data: Uma lista.\n",
    "          index: Um inteiro.\n",
    "      Retorna:\n",
    "          Retorna uma lista da coluna de data, especificada no index.\n",
    "\n",
    "      \"\"\"\n",
    "    column_list = []\n",
    "    # Dica: Você pode usar um for para iterar sobre as amostras, pegar a feature pelo seu índice, e dar append para uma lista\n",
    "    for i in data_list:\n",
    "        column_list.append(i[index])\n",
    "    return column_list\n",
    "\n",
    "\n",
    "# Vamos checar com os gêneros se isso está funcionando (apenas para os primeiros 20)\n",
    "print(\"\\nTAREFA 3: Imprimindo a lista de gêneros das primeiras 20 amostras\")\n",
    "print(column_to_list(data_list, -2)[:20])\n",
    "\n",
    "# ------------ NÃO MUDE NENHUM CÓDIGO AQUI ------------\n",
    "assert type(column_to_list(data_list, -2)) is list, \"TAREFA 3: Tipo incorreto retornado. Deveria ser uma lista.\"\n",
    "assert len(column_to_list(data_list, -2)) == 1551505, \"TAREFA 3: Tamanho incorreto retornado.\"\n",
    "assert column_to_list(data_list, -2)[0] == \"\" and column_to_list(data_list, -2)[1] == \"Male\", \"TAREFA 3: A lista não coincide.\"\n",
    "# -----------------------------------------------------"
   ]
  },
  {
   "cell_type": "code",
   "execution_count": 16,
   "metadata": {},
   "outputs": [
    {
     "name": "stdout",
     "output_type": "stream",
     "text": [
      "Aperte Enter para continuar...\n",
      "\n",
      "TAREFA 4: Imprimindo quantos masculinos e femininos nós encontramos\n",
      "Masculinos:  935854 \n",
      "Femininos:  298784\n"
     ]
    }
   ],
   "source": [
    "input(\"Aperte Enter para continuar...\")\n",
    "# Agora sabemos como acessar as features, vamos contar quantos Male (Masculinos) e Female (Femininos) o dataset tem\n",
    "# TAREFA 4\n",
    "# TODO: Conte cada gênero. Você não deveria usar uma função para isso.\n",
    "male   = 0\n",
    "female = 0\n",
    "\n",
    "for i in range(len(data_list)):\n",
    "    if data_list[i][6] == 'Male':\n",
    "        male += 1\n",
    "    elif data_list[i][6] == 'Female':\n",
    "        female += 1\n",
    "        \n",
    "\n",
    "# Verificando o resultado\n",
    "print(\"\\nTAREFA 4: Imprimindo quantos masculinos e femininos nós encontramos\")\n",
    "print(\"Masculinos: \", male, \"\\nFemininos: \", female)\n",
    "\n",
    "# ------------ NÃO MUDE NENHUM CÓDIGO AQUI ------------\n",
    "assert male == 935854 and female == 298784, \"TAREFA 4: A conta não bate.\"\n",
    "# -----------------------------------------------------"
   ]
  },
  {
   "cell_type": "code",
   "execution_count": 17,
   "metadata": {},
   "outputs": [
    {
     "name": "stdout",
     "output_type": "stream",
     "text": [
      "Aperte Enter para continuar...\n",
      "\n",
      "TAREFA 5: Imprimindo o resultado de count_gender\n",
      "[935854, 298784]\n"
     ]
    }
   ],
   "source": [
    "input(\"Aperte Enter para continuar...\")\n",
    "# Por que nós não criamos uma função para isso?\n",
    "# TAREFA 5\n",
    "# TODO: Crie uma função para contar os gêneros. Retorne uma lista.\n",
    "# Isso deveria retornar uma lista com [count_male, count_female] (exemplo: [10, 15] significa 10 Masculinos, 15 Femininos)\n",
    "def count_gender(data_list):\n",
    "    \"\"\"\n",
    "      Conta a quantidade de Male e Female.\n",
    "      Argumentos:\n",
    "          param1: Uma lista.\n",
    "      Retorna:\n",
    "          Uma lista com a quantidade de Males e Female.\n",
    "\n",
    "      \"\"\"\n",
    "    male   = 0\n",
    "    female = 0\n",
    "    for i in range(len(data_list)):\n",
    "        if data_list[i][6] == 'Male':\n",
    "            male += 1\n",
    "        elif data_list[i][6] == 'Female':\n",
    "            female += 1\n",
    "    return [male, female]\n",
    "\n",
    "\n",
    "print(\"\\nTAREFA 5: Imprimindo o resultado de count_gender\")\n",
    "print(count_gender(data_list))\n",
    "\n",
    "# ------------ NÃO MUDE NENHUM CÓDIGO AQUI ------------\n",
    "assert type(count_gender(data_list)) is list, \"TAREFA 5: Tipo incorreto retornado. Deveria retornar uma lista.\"\n",
    "assert len(count_gender(data_list)) == 2, \"TAREFA 5: Tamanho incorreto retornado.\"\n",
    "assert count_gender(data_list)[0] == 935854 and count_gender(data_list)[1] == 298784, \"TAREFA 5: Resultado incorreto no retorno!\"\n",
    "# -----------------------------------------------------"
   ]
  },
  {
   "cell_type": "code",
   "execution_count": 18,
   "metadata": {},
   "outputs": [
    {
     "name": "stdout",
     "output_type": "stream",
     "text": [
      "Aperte Enter para continuar...\n",
      "\n",
      "TAREFA 6: Qual é o gênero mais popular na lista?\n",
      "O gênero mais popular na lista é:  Male\n"
     ]
    },
    {
     "data": {
      "image/png": "[encoded data removed]",
      "text/plain": [
       "<Figure size 432x288 with 1 Axes>"
      ]
     },
     "metadata": {},
     "output_type": "display_data"
    }
   ],
   "source": [
    "input(\"Aperte Enter para continuar...\")\n",
    "# Agora que nós podemos contar os usuários, qual gênero é mais prevalente?\n",
    "# TAREFA 6\n",
    "# TODO: Crie uma função que pegue o gênero mais popular, e retorne este gênero como uma string.\n",
    "# Esperamos ver \"Male\", \"Female\", ou \"Equal\" como resposta.\n",
    "def most_popular_gender(data_list):\n",
    "    \"\"\"\n",
    "      Função recebe uma lista e itera para ver o sexo de maior ocorrência.\n",
    "      Argumentos:\n",
    "          data_list: O iterável(lista).\n",
    "      Retorna:\n",
    "          O sexo de maior ocorrência.\n",
    "\n",
    "      \"\"\"\n",
    "    answer = \"\"\n",
    "    result = count_gender(data_list)\n",
    "    \n",
    "    if result[0] > result[1]:\n",
    "        answer = 'Male'\n",
    "    elif result[1] > result[0]:\n",
    "        answer = 'Female'\n",
    "    else:\n",
    "        answer = 'Equal'\n",
    "    return answer\n",
    "\n",
    "\n",
    "print(\"\\nTAREFA 6: Qual é o gênero mais popular na lista?\")\n",
    "print(\"O gênero mais popular na lista é: \", most_popular_gender(data_list))\n",
    "\n",
    "# ------------ NÃO MUDE NENHUM CÓDIGO AQUI ------------\n",
    "assert type(most_popular_gender(data_list)) is str, \"TAREFA 6: Tipo incorreto no retorno. Deveria retornar uma string.\"\n",
    "assert most_popular_gender(data_list) == \"Male\", \"TAREFA 6: Resultado de retorno incorreto!\"\n",
    "# -----------------------------------------------------\n",
    "\n",
    "# Se tudo está rodando como esperado, verifique este gráfico!\n",
    "gender_list = column_to_list(data_list, -2)\n",
    "types = [\"Male\", \"Female\"]\n",
    "quantity = count_gender(data_list)\n",
    "y_pos = list(range(len(types)))\n",
    "plt.bar(y_pos, quantity)\n",
    "plt.ylabel('Quantidade')\n",
    "plt.xlabel('Gênero')\n",
    "plt.xticks(y_pos, types)\n",
    "plt.title('Quantidade por Gênero')\n",
    "plt.show(block=True)"
   ]
  },
  {
   "cell_type": "code",
   "execution_count": 19,
   "metadata": {},
   "outputs": [
    {
     "name": "stdout",
     "output_type": "stream",
     "text": [
      "Aperte Enter para continuar...\n",
      "\n",
      "TAREFA 7: Verifique o gráfico!\n"
     ]
    },
    {
     "data": {
      "image/png": "[encoded data removed]",
      "text/plain": [
       "<Figure size 432x288 with 1 Axes>"
      ]
     },
     "metadata": {},
     "output_type": "display_data"
    }
   ],
   "source": [
    "input(\"Aperte Enter para continuar...\")\n",
    "# TAREFA 7\n",
    "# TODO: Crie um gráfico similar para user_types. Tenha certeza que a legenda está correta.\n",
    "print(\"\\nTAREFA 7: Verifique o gráfico!\")\n",
    "\n",
    "user_type_list = column_to_list(data_list, -3)\n",
    "types = [\"Customer\", \"Subscriber\"]\n",
    "\n",
    "def count_user_type(data):\n",
    "    \"\"\"\n",
    "      Conta a quantidade de Customer e Subscriber.\n",
    "      Argumentos:\n",
    "          data: Uma lista.\n",
    "      Retorna:\n",
    "          Uma lista com a quantidade de Customer e Subscriber.\n",
    "\n",
    "      \"\"\"\n",
    "    customer   = 0\n",
    "    subscriber = 0\n",
    "    for i in range(len(data)):\n",
    "        if data[i] == 'Customer':\n",
    "            customer += 1\n",
    "        elif data[i] == 'Subscriber':\n",
    "            subscriber += 1\n",
    "    return [customer, subscriber]\n",
    "    \n",
    "\n",
    "quantity = count_user_type(user_type_list)\n",
    "\n",
    "y_pos = list(range(len(types)))\n",
    "plt.bar(y_pos, quantity)\n",
    "plt.ylabel('Quantidade')\n",
    "plt.xlabel('User Type')\n",
    "plt.xticks(y_pos, types)\n",
    "plt.title('Quantidade por User Types')\n",
    "plt.show(block=True)"
   ]
  },
  {
   "cell_type": "code",
   "execution_count": 20,
   "metadata": {},
   "outputs": [
    {
     "name": "stdout",
     "output_type": "stream",
     "text": [
      "Aperte Enter para continuar...\n",
      "\n",
      "TAREFA 8: Por que a condição a seguir é Falsa?\n",
      "male + female == len(data_list): False\n",
      "resposta: Existe registros com gender = ''.\n"
     ]
    }
   ],
   "source": [
    "input(\"Aperte Enter para continuar...\")\n",
    "# TAREFA 8\n",
    "# TODO: Responda a seguinte questão\n",
    "male, female = count_gender(data_list)\n",
    "print(\"\\nTAREFA 8: Por que a condição a seguir é Falsa?\")\n",
    "print(\"male + female == len(data_list):\", male + female == len(data_list))\n",
    "answer = \"Existe registros com gender = ''.\"\n",
    "print(\"resposta:\", answer)\n",
    "\n",
    "# ------------ NÃO MUDE NENHUM CÓDIGO AQUI ------------\n",
    "assert answer != \"Escreva sua resposta aqui.\", \"TAREFA 8: Escreva sua própria resposta!\"\n",
    "# -----------------------------------------------------"
   ]
  },
  {
   "cell_type": "code",
   "execution_count": 21,
   "metadata": {},
   "outputs": [
    {
     "name": "stdout",
     "output_type": "stream",
     "text": [
      "Aperte Enter para continuar...\n",
      "\n",
      "TAREFA 9: Imprimindo o mínimo, máximo, média, e mediana\n",
      "Min:  60 Max:  86338 Média:  940 Mediana:  670.0\n"
     ]
    }
   ],
   "source": [
    "input(\"Aperte Enter para continuar...\")\n",
    "# Vamos trabalhar com trip_duration (duração da viagem) agora. Não conseguimos tirar alguns valores dele.\n",
    "# TAREFA 9\n",
    "# TODO: Ache a duração de viagem Mínima, Máxima, Média, e Mediana.\n",
    "# Você não deve usar funções prontas para isso, como max() e min().\n",
    "trip_duration_list = column_to_list(data_list, 2)\n",
    "min_trip    = 0.\n",
    "max_trip    = 0.\n",
    "mean_trip   = 0.\n",
    "median_trip = 0.\n",
    "\n",
    "#---------------------------------------------\n",
    "sort_trip_list = sorted(trip_duration_list, key=int)\n",
    "min_trip       = int(sort_trip_list[0])\n",
    "max_trip       = int(sort_trip_list[-1])\n",
    "\n",
    "#---------------------------------------------\n",
    "sum_trip = 0\n",
    "for i in range(len(sort_trip_list)):\n",
    "    sum_trip += int(sort_trip_list[i])\n",
    "mean_trip = round(sum_trip/len(sort_trip_list))\n",
    "\n",
    "#---------------------------------------------\n",
    "mid = len(sort_trip_list) // 2\n",
    "if len(sort_trip_list) % 2 == 0:\n",
    "    median_trip = float(sort_trip_list[mid] + sort_trip_list[mid-1]) / 2\n",
    "else:\n",
    "    median_trip = float(sort_trip_list[mid])\n",
    "\n",
    "print(\"\\nTAREFA 9: Imprimindo o mínimo, máximo, média, e mediana\")\n",
    "print(\"Min: \", min_trip, \"Max: \", max_trip, \"Média: \", mean_trip, \"Mediana: \", median_trip)\n",
    "\n",
    "# ------------ NÃO MUDE NENHUM CÓDIGO AQUI ------------\n",
    "assert round(min_trip) == 60, \"TAREFA 9: min_trip com resultado errado!\"\n",
    "assert round(max_trip) == 86338, \"TAREFA 9: max_trip com resultado errado!\"\n",
    "assert round(mean_trip) == 940, \"TAREFA 9: mean_trip com resultado errado!\"\n",
    "assert round(median_trip) == 670, \"TAREFA 9: median_trip com resultado errado!\"\n",
    "# -----------------------------------------------------"
   ]
  },
  {
   "cell_type": "code",
   "execution_count": 22,
   "metadata": {},
   "outputs": [
    {
     "name": "stdout",
     "output_type": "stream",
     "text": [
      "Aperte Enter para continuar...\n",
      "\n",
      "TAREFA 10: Imprimindo as start stations:\n",
      "582\n",
      "{'Shedd Aquarium', 'Lake Shore Dr & Belmont Ave', 'Franklin St & Jackson Blvd', 'Western Blvd & 48th Pl', 'Central St Metra', 'Marshfield Ave & 44th St', 'Sheffield Ave & Webster Ave', 'Ellis Ave & 55th St', 'Michigan Ave & Pearson St', 'Ashland Ave & 66th St', 'Loomis St & Lexington St', 'Kedzie Ave & Foster Ave', 'California Ave & Montrose Ave', 'Cottage Grove Ave & 78th St', 'Cicero Ave & Flournoy St', 'Leavitt St & North Ave', 'Kosciuszko Park', 'Clinton St & Madison St', 'Rush St & Hubbard St', 'Cottage Grove Ave & 71st St', 'Cannon Dr & Fullerton Ave', 'State St & 35th St', 'Lombard Ave & Madison St', 'Morgan St & Pershing Rd', 'Racine Ave & 15th St', 'Lincoln Ave & Belle Plaine Ave', 'Halsted St & Wrightwood Ave', 'Jefferson St & Monroe St', 'Sedgwick St & Schiller St', 'California Ave & 26th St', 'Ogden Ave & Congress Pkwy', 'Perry Ave & 69th St', 'Princeton Ave & 47th St', 'Dearborn Pkwy & Delaware Pl', 'Ogden Ave & Race Ave', 'Vernon Ave & 75th St', 'Lake Shore Dr & Diversey Pkwy', 'Wentworth Ave & 35th St', 'MLK Jr Dr & 83rd St', 'Damen Ave & Clybourn Ave', 'Sangamon St & Washington Blvd (*)', 'Elston Ave & Wabansia Ave', 'Sheffield Ave & Willow St', 'Ravenswood Ave & Lawrence Ave', 'Washtenaw Ave & 15th St (*)', 'Vernon Ave & 79th St', 'Kedzie Ave & Palmer Ct', 'Clarendon Ave & Junior Ter', 'Drake Ave & Fullerton Ave', 'Columbus Dr & Randolph St', 'Conservatory Dr & Lake St', 'Halsted St & Blackhawk St (*)', 'Clinton St & Tilden St', 'Indiana Ave & 31st St', 'Michigan Ave & Madison St', 'Lawndale Ave & 23rd St', 'Lake Park Ave & 35th St', 'Racine Ave & Garfield Blvd', 'Canal St & Harrison St', 'Ashland Ave & McDowell Ave', 'Damen Ave & 51st St', 'Damen Ave & Pierce Ave', 'Racine Ave & Randolph St', 'Wood St & Taylor St', 'Stockton Dr & Wrightwood Ave', 'Stony Island Ave & 75th St', 'Kedzie Ave & Milwaukee Ave', 'Halsted St & Roosevelt Rd', 'Ravenswood Ave & Irving Park Rd', 'Clark St & Berwyn Ave', 'Dodge Ave & Church St', '900 W Harrison St', 'California Ave & Milwaukee Ave', 'Ashland Ave & 50th St', 'Clinton St & Jackson Blvd', 'Franklin St & Lake St', 'Millard Ave & 26th St', 'Wabash Ave & 8th St', 'South Shore Dr & 71st St', 'Lincoln Ave & Leavitt St', 'Troy St & North Ave', 'Marshfield Ave & 59th St', 'Dorchester Ave & 63rd St', 'East Ave & Madison St', 'California Ave & 21st St', 'Southport Ave & Belmont Ave', 'Aberdeen St & Jackson Blvd', 'Warren Park West', 'Wentworth Ave & 24th St', 'Michigan Ave & 14th St', 'Lakeview Ave & Fullerton Pkwy', 'Wilton Ave & Diversey Pkwy', 'Clark St & 9th St (AMLI)', 'Laramie Ave & Gladys Ave', 'Damen Ave & Foster Ave', 'Drake Ave & Montrose Ave', 'Richmond St & Diversey Ave', 'Broadway & Wilson Ave', 'Ashland Ave & Blackhawk St', 'Franklin St & Quincy St', 'Milwaukee Ave & Wabansia Ave', 'Clarendon Ave & Leland Ave', 'Clark St & Lake St', 'Dorchester Ave & 49th St', 'State St & Harrison St', 'Kingsbury St & Kinzie St', 'Ravenswood Ave & Montrose Ave (*)', 'Ellis Ave & 83rd St', 'Dearborn St & Monroe St', 'Michigan Ave & Oak St', 'Buckingham Fountain', 'Larrabee St & Armitage Ave', 'Keystone Ave & Montrose Ave', 'Calumet Ave & 51st St', 'Elmwood Ave & Austin St', 'Calumet Ave & 35th St', 'Halsted St & 47th Pl', 'Halsted St & 63rd St', 'Loomis St & Jackson Blvd', 'Wabash Ave & Adams St', 'Stony Island Ave & 82nd St', 'Sheridan Rd & Montrose Ave', 'Eastlake Ter & Rogers Ave', 'Central Park Ave & Ogden Ave', 'Clark St & North Ave', 'Ashland Ave & Augusta Blvd', 'Damen Ave & Grand Ave', 'Broadway & Berwyn Ave', 'MLK Jr Dr & Oakwood Blvd', 'Paulina St & Montrose Ave', 'Shields Ave & 28th Pl', 'Wisconsin Ave & Madison St', 'Oakley Ave & Irving Park Rd', 'Damen Ave & Division St', 'Western Ave & Walton St', 'Desplaines St & Randolph St', 'Racine Ave & Belmont Ave', 'Halsted St & North Branch St', 'Valli Produce - Evanston Plaza', 'Claremont Ave & Hirsch St', 'Ashland Ave & Wellington Ave', 'Stony Island Ave & South Chicago Ave', 'Rush St & Superior St', 'Michigan Ave & Lake St', 'Emerald Ave & 31st St', 'Southport Ave & Clark St', 'Museum of Science and Industry', 'Daley Center Plaza', 'Monticello Ave & Irving Park Rd', 'Greenwood Ave & 79th St', 'Broadway & Ridge Ave', 'Western Ave & 28th St', 'Ashland Ave & Belle Plaine Ave', 'Shore Dr & 55th St', 'Sheffield Ave & Kingsbury St', 'State St & Van Buren St', 'Lincoln Ave & Waveland Ave', 'Dusable Harbor', 'Racine Ave (May St) & Fulton St', 'State St & 29th St', 'Ritchie Ct & Banks St', 'Fairfield Ave & Roosevelt Rd', 'Milwaukee Ave & Cuyler Ave', 'Milwaukee Ave & Grand Ave', 'Larrabee St & Division St', 'Kedzie Ave & Lake St', 'Wallace St & 35th St', 'Shields Ave & 31st St', 'Canal St & Adams St', 'Western Ave & 21st St', 'Rockwell St & Eastwood Ave', 'Kedzie Ave & Chicago Ave', 'Mies van der Rohe Way & Chicago Ave', 'Clark St & Lincoln Ave', 'Blue Island Ave & 18th St', 'Clark St & Winnemac Ave', 'Desplaines St & Kinzie St', 'Pulaski Rd & Madison St', 'Knox Ave & Montrose Ave', 'Southport Ave & Wellington Ave', 'Rush St & Cedar St', 'Sedgwick St & Huron St', 'Calumet Ave & 33rd St', 'Cottage Grove Ave & Oakwood Blvd', 'Eberhart Ave & 61st St', 'Halsted St & 35th St (*)', 'Artesian Ave & Hubbard St', 'Sheridan Rd & Lawrence Ave', 'Calumet Ave & 18th St', 'California Ave & Francis Pl', 'Woodlawn Ave & 55th St', 'Lakefront Trail & Bryn Mawr Ave', 'May St & Taylor St', 'Albany Ave & Bloomingdale Ave', 'Racine Ave & 13th St', 'Damen Ave & Melrose Ave', 'Clark St & Elmdale Ave', 'Laramie Ave & Madison St', 'Milwaukee Ave & Rockwell St', 'Elizabeth St & 47th St', 'Kilbourn Ave & Milwaukee Ave', 'Glenwood Ave & Touhy Ave', 'Leavitt St & Lawrence Ave', 'Canal St & Monroe St (*)', 'University Library (NU)', 'California Ave & Cortez St', 'Central Park Ave & Elbridge Ave', 'Orleans St & Chestnut St (NEXT Apts)', 'Halsted St & 59th St', 'Paulina St & Howard St', 'Ogden Ave & Roosevelt Rd', 'Central Ave & Chicago Ave', 'Spaulding Ave & Armitage Ave', 'Campbell Ave & Montrose Ave', 'Campbell Ave & Fullerton Ave', 'Kedzie Ave & 24th St', 'DuSable Museum', 'Harper Ave & 59th St', 'Kenton Ave & Madison St', 'Wells St & Walton St', 'Avondale Ave & Irving Park Rd', 'May St & 69th St', 'Yates Blvd & 75th St', 'Hoyne Ave & 47th St', 'Central Park Blvd & 5th Ave', 'Bennett Ave & 79th St', 'Halsted St & 51st St', 'McCormick Place', 'Racine Ave & Fullerton Ave', 'Halsted St & 69th St', 'Halsted St & Willow St', 'Clinton St & Washington Blvd', 'MLK Jr Dr & 56th St (*)', 'Stony Island Ave & 71st St', 'Glenwood Ave & Morse Ave', 'Burnham Harbor', 'Clark St & Touhy Ave', 'Marion St & South Blvd', 'Orleans St & Ohio St', 'LaSalle St & Jackson Blvd', 'Ashland Ave & 13th St', 'Clark St & Schreiber Ave', 'Lincoln Ave & Addison St', 'Bissell St & Armitage Ave', 'LaSalle St & Illinois St', 'Normal Ave & Archer Ave', 'Clark St & Columbia Ave', 'California Ave & Byron St', 'Jeffery Blvd & 76th St', 'Laramie Ave & Kinzie St', 'Ashland Ave & Grace St', 'Christiana Ave & Lawrence Ave', 'Wells St & Huron St', 'Wolcott Ave & Polk St', 'Blackstone Ave & Hyde Park Blvd', 'Manor Ave & Leland Ave', 'Greenview Ave & Diversey Pkwy', 'Southport Ave & Wrightwood Ave', 'Sacramento Blvd & Franklin Blvd', 'Marshfield Ave & Cortland St', 'Kimbark Ave & 53rd St', 'State St & Randolph St', 'Kedzie Ave & Roosevelt Rd', 'Stetson Ave & South Water St', 'Streeter Dr & Grand Ave', 'California Ave & 23rd Pl', 'Sheffield Ave & Fullerton Ave', 'Morgan St & 31st St', 'MLK Jr Dr & 47th St', 'Sheridan Rd & Noyes St (NU)', 'Central Park Ave & North Ave', 'Sedgwick St & North Ave', 'Saginaw Ave & Exchange Ave', 'Clark St & Jarvis Ave', 'Prairie Ave & 43rd St', 'Maplewood Ave & Peterson Ave', 'Cottage Grove Ave & 67th St', 'Chicago Ave & Sheridan Rd', 'Greenview Ave & Jarvis Ave', 'Western Ave & 24th St', 'Ashland Ave & Garfield Blvd', 'Morgan St & Polk St', 'Shields Ave & 43rd St', 'Broadway & Cornelia Ave', 'Kingsbury St & Erie St', 'Racine Ave & 35th St', 'Lincoln Ave & Winona St', 'Michigan Ave & 18th St', 'Ashland Ave & Grand Ave', 'Western Ave & Congress Pkwy', 'Ellis Ave & 53rd St', 'Ada St & Washington Blvd', 'Southport Ave & Clybourn Ave', 'Racine Ave & Wrightwood Ave', 'Leavitt St & Archer Ave', 'Wentworth Ave & Archer Ave', 'Sheridan Rd & Buena Ave', 'Halsted St & 18th St', 'Warren Park East', 'Larrabee St & Kingsbury St', 'Hermitage Ave & Polk St', 'Cuyler Ave & Augusta St', 'Phillips Ave & 79th St', 'Wood St & Milwaukee Ave', 'Canal St & Madison St', 'Desplaines St & Jackson Blvd', 'Prairie Ave & Garfield Blvd', 'Bosworth Ave & Howard St', 'MLK Jr Dr & 29th St', 'Halsted St & Roscoe St', 'Sawyer Ave & Irving Park Rd', 'Ashland Ave & Division St', 'Dearborn St & Adams St', 'Lake Park Ave & 47th St', 'Damen Ave & Augusta Blvd', 'Damen Ave & Pershing Rd', 'Lake Shore Dr & Wellington Ave', 'Sheridan Rd & Irving Park Rd', 'Halsted St & 21st St', 'Woodlawn Ave & Lake Park Ave', '63rd St Beach', 'Damen Ave & Leland Ave', 'Leavitt St & Armitage Ave', 'Sheffield Ave & Waveland Ave', 'Lake Park Ave & 56th St', 'Normal Ave & 72nd St', 'Princeton Ave & Garfield Blvd', 'Orleans St & Elm St (*)', 'Broadway & Barry Ave', 'Southport Ave & Waveland Ave', 'Loomis St & Taylor St (*)', 'LaSalle St & Washington St', 'Dayton St & North Ave', 'Jeffery Blvd & 67th St', 'Pulaski Rd & Lake St', 'Wolcott Ave & Fargo Ave', 'Michigan Ave & Washington St', 'Greenwood Ave & 47th St', 'Cottage Grove Ave & 43rd St', 'Millennium Park', 'Clifton Ave & Lawrence Ave', 'Austin Blvd & Lake St', 'Clark St & Chicago Ave', 'Wentworth Ave & 63rd St', 'Avers Ave & Belmont Ave', 'Damen Ave & Madison St', 'Paulina Ave & North Ave', 'Benson Ave & Church St', 'MLK Jr Dr & 63rd St', 'Chicago Ave & Washington St', 'Exchange Ave & 79th St', 'Halsted St & Maxwell St', 'Ogden Ave & Chicago Ave', 'Ashland Ave & Archer Ave', 'Fort Dearborn Dr & 31st St', 'Racine Ave & 61st St', 'Noble St & Milwaukee Ave', 'Cottage Grove Ave & 47th St', 'Commercial Ave & 83rd St', 'Michigan Ave & Congress Pkwy', 'Kedzie Ave & Leland Ave', 'Oak Park Ave & South Blvd', 'Orleans St & Merchandise Mart Plaza', 'Washtenaw Ave & Lawrence Ave', 'Theater on the Lake', 'Morgan Ave & 14th Pl', 'Ridgeland Ave & Lake St', 'Wabash Ave & 83rd St', 'Talman Ave & Addison St', 'Wood St & 35th St', 'Wells St & Polk St', 'Oakley Ave & Roscoe St', 'Lake Shore Dr & Monroe St', 'Halsted St & Polk St', 'Lombard Ave & Garfield St', 'Federal St & Polk St', 'Spaulding Ave & Division St', 'Woodlawn Ave & 75th St', 'Halsted St & Diversey Pkwy', 'Campbell Ave & North Ave', 'Damen Ave & Charleston St', 'Seeley Ave & Garfield Blvd', 'Wabash Ave & Roosevelt Rd', 'Pine Grove Ave & Waveland Ave', 'East Ave & Garfield St', 'Forest Ave & Lake St', 'Western Ave & Monroe St', 'Phillips Ave & 82nd St', 'Franklin St & Monroe St', 'Fairbanks Ct & Grand Ave', 'California Ave & Altgeld St', 'Wabash Ave & Grand Ave', 'Clinton St & Lake St', 'State St & 33rd St', 'Broadway & Granville Ave', 'State St & Pershing Rd', 'Lincoln Ave & Belmont Ave', 'Ashland Ave & Lake St', 'Ellis Ave & 58th St', 'Humphrey Ave & Ontario St', 'Ashland Ave & Wrightwood Ave', 'McClurg Ct & Erie St', 'Paulina St & 18th St', 'Kedzie Ave & Harrison St', 'Aberdeen St & Monroe St', 'Clark St & Elm St', 'Adler Planetarium', 'Clarendon Ave & Gordon Ter', 'Rhodes Ave & 32nd St', 'Canal St & Taylor St', 'Clark St & Montrose Ave', 'Mies van der Rohe Way & Chestnut St', 'Clark St & Wellington Ave', 'Pine Grove Ave & Irving Park Rd', 'Financial Pl & Congress Pkwy', 'Union Ave & Root St', 'Sheridan Rd & Greenleaf Ave', 'Pulaski Rd & Eddy St', 'Clark St & Armitage Ave', 'Kilbourn Ave & Irving Park Rd', 'Michigan Ave & 8th St', 'Seeley Ave & Roscoe St', 'Clark St & Bryn Mawr Ave', 'Clinton St & Roosevelt Rd', 'Stave St & Armitage Ave', 'California Ave & Division St', 'Michigan Ave & Jackson Blvd', 'Kedzie Ave & Bryn Mawr Ave', 'Ellis Ave & 60th St', 'May St & Cullerton St', 'St. Louis Ave & Balmoral Ave', 'Throop St & 52nd St', 'Southport Ave & Irving Park Rd', 'Lake Shore Dr & North Blvd', 'Albany (Kedzie) Ave & Montrose Ave', 'Francisco Ave & Foster Ave', 'LaSalle St & Adams St', 'Damen Ave & Cortland St', 'Halsted St & 56th St', 'California Ave & Lake St', 'Wabash Ave & 16th St', 'Clark St & Wrightwood Ave', 'Greenview Ave & Fullerton Ave', 'Damen Ave & Cullerton St', 'Montrose Harbor', 'Wood St & Hubbard St', 'Clinton St & Polk St (*)', 'Wells St & Elm St', 'Clark St & Randolph St', 'Cottage Grove Ave & 51st St', 'Wells St & 19th St', 'Oakley Ave & Touhy Ave', 'Lake Park Ave & 53rd St', 'Wabash Ave & Cermak Rd', 'Central Ave & Madison St', 'State St & 76th St', 'Ravenswood Ave & Berteau Ave', 'Pulaski Rd & Congress Pkwy', 'Western Ave & Granville Ave', 'Cottage Grove Ave & 63rd St', 'Ashland Ave & 21st St', 'Sheridan Rd & Loyola Ave', 'Franklin St & Chicago Ave', 'St. Clair St & Erie St', 'Sedgwick St & Webster Ave', 'Lincoln Ave & Roscoe St', 'State St & Kinzie St', 'Halsted St & Archer Ave', 'Indiana Ave & 26th St', 'Wells St & Evergreen Ave', 'Wacker Dr & Washington St', 'Broadway & Belmont Ave', 'Lake Shore Dr & Ohio St', 'Wentworth Ave & 33rd St', 'Green St & Randolph St', 'Field Museum', 'Emerald Ave & 28th St', 'Broadway & Waveland Ave', 'Western Ave & Howard St', 'Carpenter St & Huron St', 'Damen Ave & Wellington Ave', 'Racine Ave & 18th St', 'Calumet Ave & 21st St', 'Ashland Ave & 63rd St', 'Cicero Ave & Lake St', 'Clinton St & 18th St', 'Racine Ave & Congress Pkwy', 'Cornell Ave & Hyde Park Blvd', 'State St & 19th St', 'Kedzie Ave & 21st St', 'Keystone Ave & Fullerton Ave', 'Peoria St & Jackson Blvd', 'Drake Ave & Addison St', 'Morgan St & Lake St', 'Clark St & Schiller St', 'Broadway & Thorndale Ave', 'Indiana Ave & Roosevelt Rd', 'Western Ave & Winnebago Ave', 'South Chicago Ave & 83rd St', 'Clark St & Congress Pkwy', 'State St & 79th St', 'South Shore Dr & 67th St', 'Dearborn St & Erie St', 'Damen Ave & Sunnyside Ave', 'Sheffield Ave & Wrightwood Ave', 'Humboldt Blvd & Armitage Ave', 'Racine Ave & 65th St', 'Halsted St & Dickens Ave', 'Larrabee St & Menomonee St', 'Sheffield Ave & Wellington Ave', 'Rainbow Beach', 'Western Ave & Division St', 'Lincoln Ave & Fullerton Ave', 'Clark St & Leland Ave', 'Ravenswood Ave & Balmoral Ave', 'Cicero Ave & Quincy St', 'Logan Blvd & Elston Ave', 'Ashland Ave & Pershing Rd', 'Broadway & Sheridan Rd', 'Forest Ave & Chicago Ave', 'Albany Ave & 26th St', 'Central Ave & Harrison St', 'Wabash Ave & 87th St', '2112 W Peterson Ave', 'Kostner Ave & Lake St', 'Wilton Ave & Belmont Ave', 'Calumet Ave & 71st St', 'Hampden Ct & Diversey Pkwy', 'Green St & Madison St', 'Kimball Ave & Belmont Ave', 'Ashland Ave & 69th St', 'Troy St & Elston Ave', 'Clybourn Ave & Division St', 'California Ave & Fletcher St', 'McClurg Ct & Illinois St', 'Oak Park Ave & Harrison St', 'Budlong Woods Library', 'Jeffery Blvd & 71st St', 'Cottage Grove Ave & 83rd St', 'Damen Ave & 59th St', 'Winchester Ave & Elston Ave', 'Stony Island Ave & 64th St', 'California Ave & North Ave', 'Ashland Ave & Harrison St', 'Lincoln Ave & Diversey Pkwy', 'Ridge Blvd & Touhy Ave', 'Wood St & Division St', 'Damen Ave & Coulter St', 'Larrabee St & Webster Ave', 'Indiana Ave & 40th St', 'Broadway & Argyle St', 'Halsted St & 37th St', 'Evans Ave & 75th St', 'Western Ave & Lunt Ave', 'Morgan St & 18th St', 'Larrabee St & North Ave', 'Clifton Ave & Armitage Ave', 'State St & Pearson St', 'Kostner Ave & Adams St', 'Western Ave & Leland Ave', 'Loomis St & Archer Ave', 'Ridge Blvd & Howard St', 'Southport Ave & Roscoe St', 'Field Blvd & South Water St', 'Clark St & Lunt Ave', 'Ashland Ave & Chicago Ave', 'Leavitt St & Addison St', 'Central St & Girard Ave', 'Cityfront Plaza Dr & Pioneer Ct', 'Mason Ave & Madison St', 'Stony Island Ave & 67th St', 'University Ave & 57th St', 'Central Ave & Lake St', 'Austin Blvd & Chicago Ave', 'Wabash Ave & Wacker Pl', 'Wells St & Concord Ln', 'Eckhart Park', 'South Shore Dr & 74th St', 'Larrabee St & Oak St', 'Marine Dr & Ainslie St', 'Damen Ave & Chicago Ave', 'Clark St & Grace St'}\n"
     ]
    }
   ],
   "source": [
    "input(\"Aperte Enter para continuar...\")\n",
    "# TAREFA 10\n",
    "# Gênero é fácil porque nós temos apenas algumas opções. E quanto a start_stations? Quantas opções ele tem?\n",
    "# TODO: Verifique quantos tipos de start_stations nós temos, usando set()\n",
    "start_stations = set()\n",
    "\n",
    "start_stations = set(column_to_list(data_list, 3))\n",
    "\n",
    "print(\"\\nTAREFA 10: Imprimindo as start stations:\")\n",
    "print(len(start_stations))\n",
    "print(start_stations)\n",
    "\n",
    "# ------------ NÃO MUDE NENHUM CÓDIGO AQUI ------------\n",
    "assert len(start_stations) == 582, \"TAREFA 10: Comprimento errado de start stations.\"\n",
    "# -----------------------------------------------------"
   ]
  },
  {
   "cell_type": "code",
   "execution_count": 23,
   "metadata": {},
   "outputs": [
    {
     "name": "stdout",
     "output_type": "stream",
     "text": [
      "Aperte Enter para continuar...\n"
     ]
    },
    {
     "data": {
      "text/plain": [
       "'\\n    Função de exemplo com anotações.\\n    Argumentos:\\n      param1: O primeiro parâmetro.\\n      param2: O segundo parâmetro.\\n    Retorna:\\n      Uma lista de valores x.\\n'"
      ]
     },
     "execution_count": 23,
     "metadata": {},
     "output_type": "execute_result"
    }
   ],
   "source": [
    "input(\"Aperte Enter para continuar...\")\n",
    "# TAREFA 11\n",
    "# Volte e tenha certeza que você documentou suas funções. Explique os parâmetros de entrada, a saída, e o que a função faz. Exemplo:\n",
    "# def new_function(param1: int, param2: str) -> list:\n",
    "\"\"\"\n",
    "    Função de exemplo com anotações.\n",
    "    Argumentos:\n",
    "      param1: O primeiro parâmetro.\n",
    "      param2: O segundo parâmetro.\n",
    "    Retorna:\n",
    "      Uma lista de valores x.\n",
    "\"\"\""
   ]
  },
  {
   "cell_type": "code",
   "execution_count": null,
   "metadata": {},
   "outputs": [],
   "source": [
    "input(\"Aperte Enter para continuar...\")\n",
    "# TAREFA 12 - Desafio! (Opcional)\n",
    "# TODO: Crie uma função para contar tipos de usuários, sem definir os tipos\n",
    "# para que nós possamos usar essa função com outra categoria de dados.\n",
    "print(\"Você vai encarar o desafio? (yes ou no)\")\n",
    "answer = \"yes\"\n",
    "\n",
    "def count_items(column_list):\n",
    "    item_types  = []\n",
    "    count_items = []\n",
    "    return item_types, count_items\n",
    "\n",
    "\n",
    "if answer == \"yes\":\n",
    "    # ------------ NÃO MUDE NENHUM CÓDIGO AQUI ------------\n",
    "    column_list = column_to_list(data_list, -2)\n",
    "    types, counts = count_items(column_list)\n",
    "    print(\"\\nTAREFA 12: Imprimindo resultados para count_items()\")\n",
    "    print(\"Tipos:\", types, \"Counts:\", counts)\n",
    "    assert len(types) == 3, \"TAREFA 12: Há 3 tipos de gênero!\"\n",
    "    assert sum(counts) == 1551505, \"TAREFA 12: Resultado de retorno incorreto!\"\n",
    "    # -----------------------------------------------------\n"
   ]
  },
  {
   "cell_type": "code",
   "execution_count": 27,
   "metadata": {},
   "outputs": [],
   "source": [
    "user_type = []\n",
    "user_type = column_to_list(data_list, -3)"
   ]
  }
 ],
 "metadata": {
  "kernelspec": {
   "display_name": "Python 3",
   "language": "python",
   "name": "python3"
  },
  "language_info": {
   "codemirror_mode": {
    "name": "ipython",
    "version": 3
   },
   "file_extension": ".py",
   "mimetype": "text/x-python",
   "name": "python",
   "nbconvert_exporter": "python",
   "pygments_lexer": "ipython3",
   "version": "3.6.5"
  },
  "latex_envs": {
   "LaTeX_envs_menu_present": true,
   "autoclose": false,
   "autocomplete": true,
   "bibliofile": "biblio.bib",
   "cite_by": "apalike",
   "current_citInitial": 1,
   "eqLabelWithNumbers": true,
   "eqNumInitial": 1,
   "hotkeys": {
    "equation": "Ctrl-E",
    "itemize": "Ctrl-I"
   },
   "labels_anchors": false,
   "latex_user_defs": false,
   "report_style_numbering": false,
   "user_envs_cfg": false
  },
  "nteract": {
   "version": "nteract-on-jupyter@1.9.6"
  }
 },
 "nbformat": 4,
 "nbformat_minor": 2
}
